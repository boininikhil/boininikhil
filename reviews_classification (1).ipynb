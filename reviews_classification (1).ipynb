{
 "cells": [
  {
   "cell_type": "code",
   "execution_count": 1,
   "metadata": {
    "colab": {
     "base_uri": "https://localhost:8080/"
    },
    "id": "sEKkxnoXyawY",
    "outputId": "725499e7-c98c-4f1b-9fc2-e1815e34ccd5"
   },
   "outputs": [
    {
     "name": "stderr",
     "output_type": "stream",
     "text": [
      "[nltk_data] Downloading package punkt to\n",
      "[nltk_data]     /Users/sairamyerramshetty/nltk_data...\n",
      "[nltk_data]   Package punkt is already up-to-date!\n"
     ]
    },
    {
     "data": {
      "text/plain": [
       "True"
      ]
     },
     "execution_count": 1,
     "metadata": {},
     "output_type": "execute_result"
    }
   ],
   "source": [
    "import gensim\n",
    "from gensim.models import Word2Vec\n",
    "\n",
    "from sklearn.model_selection import cross_val_score, GridSearchCV\n",
    "from sklearn.svm import SVC\n",
    "from xgboost import XGBClassifier\n",
    "from sklearn.model_selection import train_test_split\n",
    "from sklearn.ensemble import RandomForestClassifier\n",
    "from sklearn.metrics import accuracy_score\n",
    "from sklearn.metrics import classification_report\n",
    "\n",
    "from textblob import TextBlob    # import textblob packages, nlp\n",
    "from textblob.sentiments import NaiveBayesAnalyzer\n",
    "import pandas as pd\n",
    "import matplotlib.pyplot as plt\n",
    "import numpy as np\n",
    "\n",
    "from vaderSentiment.vaderSentiment import SentimentIntensityAnalyzer\n",
    "\n",
    "# import natural language toolkit\n",
    "import nltk\n",
    "nltk.download('punkt')"
   ]
  },
  {
   "cell_type": "code",
   "execution_count": 121,
   "metadata": {
    "colab": {
     "base_uri": "https://localhost:8080/",
     "height": 739
    },
    "id": "y83n9BfFy2jX",
    "outputId": "52c658ba-9188-4a5d-9e76-c98396aca1b6"
   },
   "outputs": [
    {
     "name": "stdout",
     "output_type": "stream",
     "text": [
      "<class 'pandas.core.frame.DataFrame'>\n",
      "RangeIndex: 10000 entries, 0 to 9999\n",
      "Data columns (total 10 columns):\n",
      " #   Column                  Non-Null Count  Dtype \n",
      "---  ------                  --------------  ----- \n",
      " 0   Id                      10000 non-null  int64 \n",
      " 1   ProductId               10000 non-null  object\n",
      " 2   UserId                  10000 non-null  object\n",
      " 3   ProfileName             10000 non-null  object\n",
      " 4   HelpfulnessNumerator    10000 non-null  int64 \n",
      " 5   HelpfulnessDenominator  10000 non-null  int64 \n",
      " 6   Score                   10000 non-null  int64 \n",
      " 7   Time                    10000 non-null  int64 \n",
      " 8   Summary                 10000 non-null  object\n",
      " 9   Text                    10000 non-null  object\n",
      "dtypes: int64(5), object(5)\n",
      "memory usage: 781.4+ KB\n"
     ]
    }
   ],
   "source": [
    "df = pd.read_csv(\"Reviews.csv\", dtype={'Text': str},nrows = 10000)\n",
    "df.info()"
   ]
  },
  {
   "cell_type": "code",
   "execution_count": null,
   "metadata": {},
   "outputs": [],
   "source": [
    "df.head()"
   ]
  },
  {
   "cell_type": "code",
   "execution_count": 3,
   "metadata": {
    "id": "loOaIgohzu--"
   },
   "outputs": [],
   "source": [
    "column = \"Text\""
   ]
  },
  {
   "cell_type": "code",
   "execution_count": 4,
   "metadata": {
    "colab": {
     "base_uri": "https://localhost:8080/"
    },
    "id": "QS1fLNTUzzZn",
    "outputId": "f4df6fa0-4f07-4d50-e6ae-6a5a91c734bb"
   },
   "outputs": [
    {
     "name": "stdout",
     "output_type": "stream",
     "text": [
      "Summary statistics of numerical data\n",
      "                Id  HelpfulnessNumerator  HelpfulnessDenominator  \\\n",
      "count  10000.00000          10000.000000            10000.000000   \n",
      "mean    5000.50000              1.573500                2.014900   \n",
      "std     2886.89568              5.230634                5.807551   \n",
      "min        1.00000              0.000000                0.000000   \n",
      "25%     2500.75000              0.000000                0.000000   \n",
      "50%     5000.50000              0.000000                1.000000   \n",
      "75%     7500.25000              2.000000                2.000000   \n",
      "max    10000.00000            187.000000              216.000000   \n",
      "\n",
      "              Score          Time  \n",
      "count  10000.000000  1.000000e+04  \n",
      "mean       4.134500  1.294359e+09  \n",
      "std        1.327172  4.769699e+07  \n",
      "min        1.000000  9.617184e+08  \n",
      "25%        4.000000  1.268762e+09  \n",
      "50%        5.000000  1.307837e+09  \n",
      "75%        5.000000  1.329955e+09  \n",
      "max        5.000000  1.351210e+09  \n",
      "\n",
      "Total number of reviews 10000\n",
      "\n",
      "Ratio of Positive vs. Neutral vs. Negative Review Sentiment : (all in percentage)\n",
      "Positive    76.16\n",
      "Negative    15.22\n",
      "Neutral      8.62\n",
      "Name: rating_sentiment, dtype: float64\n"
     ]
    }
   ],
   "source": [
    "print(\"Summary statistics of numerical data\")\n",
    "print(df.describe())\n",
    "\n",
    "print(\"\\nTotal number of reviews\", df.shape[0])\n",
    "\n",
    "def rating_sentiment(rating):\n",
    "    if rating >= 4:\n",
    "        return \"Positive\"\n",
    "    elif rating == 3:\n",
    "        return \"Neutral\"\n",
    "    else:\n",
    "        return \"Negative\"\n",
    "df[\"rating_sentiment\"] = df[\"Score\"].apply(rating_sentiment)\n",
    "print(\"\\nRatio of Positive vs. Neutral vs. Negative Review Sentiment : (all in percentage)\")\n",
    "print(df[\"rating_sentiment\"].value_counts()/df.shape[0] * 100)"
   ]
  },
  {
   "cell_type": "code",
   "execution_count": 5,
   "metadata": {
    "colab": {
     "base_uri": "https://localhost:8080/",
     "height": 576
    },
    "id": "i3ZQy8p2z_C5",
    "outputId": "8557feb8-d244-48c2-b38d-a6467d728878"
   },
   "outputs": [
    {
     "data": {
      "text/plain": [
       "Text(0, 0.5, 'Count')"
      ]
     },
     "execution_count": 5,
     "metadata": {},
     "output_type": "execute_result"
    },
    {
     "data": {
      "image/png": "[encoded data removed]",
      "text/plain": [
       "<Figure size 1000x600 with 1 Axes>"
      ]
     },
     "metadata": {},
     "output_type": "display_data"
    }
   ],
   "source": [
    "plt.figure(figsize = (10,6))\n",
    "df[\"Score\"].value_counts().sort_index().plot(kind='bar')\n",
    "plt.title('Distribution of Review Rating')\n",
    "plt.xlabel('Review Rating')\n",
    "plt.ylabel('Count')"
   ]
  },
  {
   "cell_type": "code",
   "execution_count": 6,
   "metadata": {
    "colab": {
     "base_uri": "https://localhost:8080/",
     "height": 581
    },
    "id": "WkckPc8g0J9c",
    "outputId": "6236922f-3d29-4024-9b5a-4c85a0b25cc1"
   },
   "outputs": [
    {
     "data": {
      "text/plain": [
       "Text(0, 0.5, 'Count')"
      ]
     },
     "execution_count": 6,
     "metadata": {},
     "output_type": "execute_result"
    },
    {
     "data": {
      "image/png": "[encoded data removed]",
      "text/plain": [
       "<Figure size 1000x600 with 1 Axes>"
      ]
     },
     "metadata": {},
     "output_type": "display_data"
    }
   ],
   "source": [
    "# Review Length\n",
    "length = df[\"Text\"].dropna().apply(lambda x: len(x))\n",
    "plt.figure(figsize = (10,6))\n",
    "length.loc[length < 2000].hist()\n",
    "plt.title(\"Distribution of Review Length\")\n",
    "plt.xlabel('Review length by number of characteres')\n",
    "plt.ylabel('Count')"
   ]
  },
  {
   "cell_type": "code",
   "execution_count": 7,
   "metadata": {
    "id": "NFXGzaqq0aFm"
   },
   "outputs": [],
   "source": [
    "# Drop missing reviews\n",
    "df = df.dropna(subset= [column])\n",
    "\n",
    "newdf = df.drop_duplicates(subset=['ProductId', 'UserId'])\n",
    "\n"
   ]
  },
  {
   "cell_type": "code",
   "execution_count": 8,
   "metadata": {
    "id": "gxETYUfA0zhJ"
   },
   "outputs": [],
   "source": [
    "# make functions to detect the polarity\n",
    "def detect_polarity(text):\n",
    "    return TextBlob(text).sentiment.polarity"
   ]
  },
  {
   "cell_type": "code",
   "execution_count": 9,
   "metadata": {
    "id": "09JMm4lE1SSL"
   },
   "outputs": [],
   "source": [
    "df['textblob_polarity'] = df[column].apply(detect_polarity)"
   ]
  },
  {
   "cell_type": "code",
   "execution_count": 10,
   "metadata": {
    "colab": {
     "base_uri": "https://localhost:8080/",
     "height": 564
    },
    "id": "Jnppwyf03Y5f",
    "outputId": "a147c862-1604-44d0-e817-03780b007970"
   },
   "outputs": [
    {
     "data": {
      "image/png": "[encoded data removed]",
      "text/plain": [
       "<Figure size 1000x600 with 1 Axes>"
      ]
     },
     "metadata": {},
     "output_type": "display_data"
    }
   ],
   "source": [
    "# check the distribution of polarity\n",
    "\n",
    "num_bins = 50\n",
    "plt.figure(figsize=(10,6))\n",
    "n, bins, patches = plt.hist(df.textblob_polarity, num_bins, facecolor='blue', alpha=0.5)\n",
    "plt.xlabel('Polarity')\n",
    "plt.ylabel('Count')\n",
    "plt.title('Histogram of polarity')\n",
    "plt.show();"
   ]
  },
  {
   "cell_type": "code",
   "execution_count": 11,
   "metadata": {
    "colab": {
     "base_uri": "https://localhost:8080/"
    },
    "id": "PZ9JlFuF3eIk",
    "outputId": "3b707f45-926d-4d0f-bb41-abc24fc58eb1"
   },
   "outputs": [
    {
     "name": "stdout",
     "output_type": "stream",
     "text": [
      "I'm very happy.-------------------------------------------------- {'neg': 0.0, 'neu': 0.334, 'pos': 0.666, 'compound': 0.6115}\n"
     ]
    }
   ],
   "source": [
    "# --- examples -------\n",
    "sentences = [\"I'm very happy.\"]\n",
    "\n",
    "analyzer = SentimentIntensityAnalyzer()\n",
    "\n",
    "for sentence in sentences:\n",
    "    vs = analyzer.polarity_scores(sentence)\n",
    "    print(\"{:-<65} {}\".format(sentence, str(vs)))"
   ]
  },
  {
   "cell_type": "code",
   "execution_count": 12,
   "metadata": {
    "id": "tAMVfXx23hiC"
   },
   "outputs": [],
   "source": [
    "# create function to use Vader to detect sentiment\n",
    "analyzer = SentimentIntensityAnalyzer()\n",
    "\n",
    "def vader_sentiment(text):\n",
    "    return analyzer.polarity_scores(text)['compound']\n",
    "\n",
    "# execution\n",
    "df['vader_polarity'] = df[column].apply(vader_sentiment)"
   ]
  },
  {
   "cell_type": "code",
   "execution_count": 13,
   "metadata": {
    "id": "jgTQZej05hzl"
   },
   "outputs": [
    {
     "data": {
      "image/png": "[encoded data removed]",
      "text/plain": [
       "<Figure size 1000x600 with 1 Axes>"
      ]
     },
     "metadata": {},
     "output_type": "display_data"
    }
   ],
   "source": [
    "# check distribution of vender's sentiment results\n",
    "\n",
    "num_bins = 50\n",
    "plt.figure(figsize=(10,6))\n",
    "n, bins, patches = plt.hist(df.vader_polarity, num_bins, facecolor='blue', alpha=0.5)\n",
    "plt.xlabel('Polarity')\n",
    "plt.ylabel('Count')\n",
    "plt.title('Histogram of polarity')\n",
    "plt.show();"
   ]
  },
  {
   "cell_type": "code",
   "execution_count": 14,
   "metadata": {
    "id": "8WqTcUl-5nOd"
   },
   "outputs": [],
   "source": [
    "import re\n",
    "def clean(raw_text):\n",
    "    letters_only = re.sub(\"[^a-zA-Z]\", \" \", raw_text)  # remove non-character\n",
    "    words = letters_only.lower().split() # convert to lower case\n",
    "\n",
    "    return( \" \".join(words))"
   ]
  },
  {
   "cell_type": "code",
   "execution_count": 15,
   "metadata": {
    "id": "WiDXm1KF5qBY"
   },
   "outputs": [],
   "source": [
    "df2 = newdf[newdf['rating_sentiment'] != \"Neutral\"].copy()"
   ]
  },
  {
   "cell_type": "code",
   "execution_count": 16,
   "metadata": {
    "colab": {
     "base_uri": "https://localhost:8080/"
    },
    "id": "dkBhgdtt9jG0",
    "outputId": "fceca4f6-febf-48de-dc8f-3b551736d844"
   },
   "outputs": [
    {
     "name": "stdout",
     "output_type": "stream",
     "text": [
      "An example: great taffy at a great price there was a wide assortment of yummy taffy delivery was very quick if your a taffy lover this is a deal\n",
      "An example: ['great', 'taffy', 'at', 'a', 'great', 'price', 'there', 'was', 'a', 'wide', 'assortment', 'of', 'yummy', 'taffy', 'delivery', 'was', 'very', 'quick', 'if', 'your', 'a', 'taffy', 'lover', 'this', 'is', 'a', 'deal']\n"
     ]
    }
   ],
   "source": [
    "data2 = df2['Text']\n",
    "clean_review2 = []\n",
    "for document in data2:\n",
    "    clean_review2.append(clean(document))\n",
    "tokens2 = []\n",
    "for review in clean_review2:\n",
    "    tokens2.append(review.split())\n",
    "print(\"An example:\",  clean_review2[4])\n",
    "print(\"An example:\", tokens2[4])"
   ]
  },
  {
   "cell_type": "code",
   "execution_count": 17,
   "metadata": {
    "id": "wX8ZNbq6_Fke"
   },
   "outputs": [
    {
     "name": "stdout",
     "output_type": "stream",
     "text": [
      "Raw Corpus contains 4,081,651 characters\n",
      "We have 45,747 raw sentences\n"
     ]
    }
   ],
   "source": [
    "# Convert all the review text into a long string and print its length\n",
    "raw_corpus = \"\".join(newdf['Text']+\" \")\n",
    "print(\"Raw Corpus contains {0:,} characters\".format(len(raw_corpus)))\n",
    "\n",
    "tokenizer = nltk.data.load(\"tokenizers/punkt/english.pickle\")\n",
    "# we tokenize the raw string into raw sentences\n",
    "raw_sentences = tokenizer.tokenize(raw_corpus)\n",
    "print(\"We have {0:,} raw sentences\".format(len(raw_sentences)))"
   ]
  },
  {
   "cell_type": "code",
   "execution_count": 18,
   "metadata": {
    "id": "9vCaq1mg_uMD"
   },
   "outputs": [
    {
     "name": "stdout",
     "output_type": "stream",
     "text": [
      "We have 45,747 clean sentences\n",
      "An example of a sentence: ['product', 'arrived', 'labeled', 'as', 'jumbo', 'salted', 'peanuts', 'the', 'peanuts', 'were', 'actually', 'small', 'sized', 'unsalted']\n"
     ]
    }
   ],
   "source": [
    "def clean_and_split_str(string):\n",
    "    strip_special_chars = re.compile(\"[^A-Za-z]+\")\n",
    "    string = re.sub(strip_special_chars, \" \", string)\n",
    "    return string.strip().lower().split()\n",
    "\n",
    "# clean each raw sentences and build the list of sentences\n",
    "sentences = []\n",
    "for raw_sent in raw_sentences:\n",
    "    if len(raw_sent) > 0:\n",
    "        sentences.append(clean_and_split_str(raw_sent))\n",
    "print(\"We have {0:,} clean sentences\".format(len(sentences)))\n",
    "print(\"An example of a sentence:\", sentences[3])"
   ]
  },
  {
   "cell_type": "code",
   "execution_count": 19,
   "metadata": {
    "id": "50D3OaupCuka"
   },
   "outputs": [
    {
     "name": "stdout",
     "output_type": "stream",
     "text": [
      "The dataset corpus contains 767,586 tokens\n"
     ]
    }
   ],
   "source": [
    "token_count = sum([len(sentence) for sentence in sentences])\n",
    "print(\"The dataset corpus contains {0:,} tokens\".format(token_count))"
   ]
  },
  {
   "cell_type": "code",
   "execution_count": 20,
   "metadata": {
    "id": "C641WA3_CzhF"
   },
   "outputs": [],
   "source": [
    "import multiprocessing\n",
    "\n",
    "#Dimensionality of the resulting word vectors\n",
    "num_features = 300\n",
    "\n",
    "#Minimum word count threshold\n",
    "min_word_count = 3\n",
    "\n",
    "#Number of threads to run in parallel\n",
    "num_workers = multiprocessing.cpu_count()\n",
    "\n",
    "#Context window length\n",
    "context_size = 7\n",
    "\n",
    "#Seed for the RNG, to make the result reproducible\n",
    "seed = 1"
   ]
  },
  {
   "cell_type": "code",
   "execution_count": 21,
   "metadata": {
    "id": "k6n-H0-9C1J3"
   },
   "outputs": [
    {
     "name": "stdout",
     "output_type": "stream",
     "text": [
      "The vocabulary is built\n",
      "Word2Vec vocabulary length:  8101\n"
     ]
    }
   ],
   "source": [
    "word2vec_model = Word2Vec(sentences = sentences,\n",
    "    sg=1,\n",
    "    seed=seed,\n",
    "    workers=num_workers,\n",
    "    vector_size=num_features,\n",
    "    min_count=min_word_count,\n",
    "    window=context_size)\n",
    "\n",
    "print(\"The vocabulary is built\")\n",
    "print(\"Word2Vec vocabulary length: \", len(word2vec_model.wv.index_to_key))"
   ]
  },
  {
   "cell_type": "code",
   "execution_count": 22,
   "metadata": {
    "id": "IFKNcUQPRMxO"
   },
   "outputs": [],
   "source": [
    "word2vec_model.save(\"amazon.model\")"
   ]
  },
  {
   "cell_type": "code",
   "execution_count": 23,
   "metadata": {
    "id": "kuh3EsvmRQZO"
   },
   "outputs": [],
   "source": [
    "def averageVector(reviews, w2v):\n",
    "    total = []\n",
    "    lst = w2v.wv.index_to_key\n",
    "    for review in reviews:\n",
    "        avgVector = w2v.wv['i']*0\n",
    "        count = 0\n",
    "        empty = True\n",
    "        for word in review:\n",
    "            if word in lst:\n",
    "                count += 1\n",
    "                avgVector = np.add(avgVector, w2v.wv[word])\n",
    "                empty = False\n",
    "        if not empty:\n",
    "            avgVector = np.divide(avgVector, count)\n",
    "        total.append(avgVector)\n",
    "    return total"
   ]
  },
  {
   "cell_type": "code",
   "execution_count": 24,
   "metadata": {
    "id": "2W5bKJehReSh"
   },
   "outputs": [],
   "source": [
    "allVectors2 = averageVector(tokens2, word2vec_model)"
   ]
  },
  {
   "cell_type": "code",
   "execution_count": 109,
   "metadata": {
    "id": "iLoukeEzXsp7"
   },
   "outputs": [],
   "source": [
    "y2 = df2[\"rating_sentiment\"]\n",
    "X_train2, X_test2, y_train2, y_test2 = train_test_split(pd.DataFrame(allVectors2), y2, test_size=0.2, random_state=42, stratify = y2)"
   ]
  },
  {
   "cell_type": "code",
   "execution_count": 110,
   "metadata": {
    "id": "vF6iCj8yyykx"
   },
   "outputs": [
    {
     "data": {
      "text/plain": [
       "SVC(class_weight='balanced', gamma='auto')"
      ]
     },
     "execution_count": 110,
     "metadata": {},
     "output_type": "execute_result"
    }
   ],
   "source": [
    "svm2 = SVC(gamma='auto', class_weight = 'balanced')\n",
    "svm2.fit(X_train2, y_train2) "
   ]
  },
  {
   "cell_type": "code",
   "execution_count": 111,
   "metadata": {
    "id": "otL8yoYYnZPO"
   },
   "outputs": [],
   "source": [
    "y_pred_svm2 = svm2.predict(X_test2)"
   ]
  },
  {
   "cell_type": "code",
   "execution_count": 112,
   "metadata": {},
   "outputs": [
    {
     "data": {
      "text/plain": [
       "0.6039933444259568"
      ]
     },
     "execution_count": 112,
     "metadata": {},
     "output_type": "execute_result"
    }
   ],
   "source": [
    "accuracy_score(y_test2, y_pred_svm2)"
   ]
  },
  {
   "cell_type": "code",
   "execution_count": 113,
   "metadata": {},
   "outputs": [
    {
     "name": "stdout",
     "output_type": "stream",
     "text": [
      "              precision    recall  f1-score   support\n",
      "\n",
      "    Negative       0.28      0.91      0.43       300\n",
      "    Positive       0.97      0.54      0.70      1503\n",
      "\n",
      "    accuracy                           0.60      1803\n",
      "   macro avg       0.63      0.73      0.56      1803\n",
      "weighted avg       0.85      0.60      0.65      1803\n",
      "\n"
     ]
    }
   ],
   "source": [
    "print(classification_report(y_test2, y_pred_svm2))"
   ]
  },
  {
   "cell_type": "code",
   "execution_count": 114,
   "metadata": {},
   "outputs": [],
   "source": [
    "# Random Forest Classifier\n",
    "rf2 = RandomForestClassifier(n_estimators=100)\n",
    "rf2.fit(X_train2, y_train2)\n",
    "y_pred_rf2 = rf2.predict(X_test2)"
   ]
  },
  {
   "cell_type": "code",
   "execution_count": 115,
   "metadata": {},
   "outputs": [
    {
     "data": {
      "text/plain": [
       "0.8646699944536883"
      ]
     },
     "execution_count": 115,
     "metadata": {},
     "output_type": "execute_result"
    }
   ],
   "source": [
    "accuracy_score(y_test2, y_pred_rf2)"
   ]
  },
  {
   "cell_type": "code",
   "execution_count": 116,
   "metadata": {},
   "outputs": [
    {
     "name": "stdout",
     "output_type": "stream",
     "text": [
      "              precision    recall  f1-score   support\n",
      "\n",
      "    Negative       0.80      0.25      0.38       300\n",
      "    Positive       0.87      0.99      0.92      1503\n",
      "\n",
      "    accuracy                           0.86      1803\n",
      "   macro avg       0.84      0.62      0.65      1803\n",
      "weighted avg       0.86      0.86      0.83      1803\n",
      "\n"
     ]
    }
   ],
   "source": [
    "print(classification_report(y_test2, y_pred_rf2))"
   ]
  },
  {
   "cell_type": "code",
   "execution_count": 117,
   "metadata": {
    "scrolled": true
   },
   "outputs": [
    {
     "data": {
      "text/plain": [
       "XGBClassifier(base_score=None, booster=None, callbacks=None,\n",
       "              colsample_bylevel=None, colsample_bynode=None,\n",
       "              colsample_bytree=None, early_stopping_rounds=None,\n",
       "              enable_categorical=False, eval_metric=None, feature_types=None,\n",
       "              gamma=None, gpu_id=None, grow_policy=None, importance_type=None,\n",
       "              interaction_constraints=None, learning_rate=None, max_bin=None,\n",
       "              max_cat_threshold=None, max_cat_to_onehot=None,\n",
       "              max_delta_step=None, max_depth=None, max_leaves=None,\n",
       "              min_child_weight=None, missing=nan, monotone_constraints=None,\n",
       "              n_estimators=100, n_jobs=None, num_parallel_tree=None,\n",
       "              predictor=None, random_state=None, ...)"
      ]
     },
     "execution_count": 117,
     "metadata": {},
     "output_type": "execute_result"
    }
   ],
   "source": [
    "from sklearn.preprocessing import LabelEncoder\n",
    "le = LabelEncoder()\n",
    "y_train2 = le.fit_transform(y_train2)\n",
    "from xgboost import XGBClassifier\n",
    "classifier = XGBClassifier()\n",
    "classifier.fit(X = X_train2,y =  y_train2)\n",
    "\n"
   ]
  },
  {
   "cell_type": "code",
   "execution_count": 118,
   "metadata": {},
   "outputs": [
    {
     "data": {
      "text/plain": [
       "0.8763172490293955"
      ]
     },
     "execution_count": 118,
     "metadata": {},
     "output_type": "execute_result"
    }
   ],
   "source": [
    "from sklearn.metrics import confusion_matrix, accuracy_score\n",
    "y_pred2 = classifier.predict(X_test2)\n",
    "y_pred2 = le.inverse_transform(y_pred2)\n",
    "\n",
    "accuracy_score(y_test2, y_pred2)"
   ]
  },
  {
   "cell_type": "code",
   "execution_count": 119,
   "metadata": {},
   "outputs": [
    {
     "name": "stdout",
     "output_type": "stream",
     "text": [
      "              precision    recall  f1-score   support\n",
      "\n",
      "    Negative       0.70      0.46      0.55       300\n",
      "    Positive       0.90      0.96      0.93      1503\n",
      "\n",
      "    accuracy                           0.88      1803\n",
      "   macro avg       0.80      0.71      0.74      1803\n",
      "weighted avg       0.86      0.88      0.87      1803\n",
      "\n"
     ]
    }
   ],
   "source": [
    "print(classification_report(y_test2, y_pred2))"
   ]
  },
  {
   "cell_type": "code",
   "execution_count": null,
   "metadata": {},
   "outputs": [],
   "source": []
  },
  {
   "cell_type": "code",
   "execution_count": null,
   "metadata": {},
   "outputs": [],
   "source": []
  }
 ],
 "metadata": {
  "colab": {
   "provenance": []
  },
  "kernelspec": {
   "display_name": "Python 3 (ipykernel)",
   "language": "python",
   "name": "python3"
  },
  "language_info": {
   "codemirror_mode": {
    "name": "ipython",
    "version": 3
   },
   "file_extension": ".py",
   "mimetype": "text/x-python",
   "name": "python",
   "nbconvert_exporter": "python",
   "pygments_lexer": "ipython3",
   "version": "3.9.13"
  }
 },
 "nbformat": 4,
 "nbformat_minor": 1
}
